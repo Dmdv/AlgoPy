{
 "cells": [
  {
   "cell_type": "code",
   "execution_count": 26,
   "metadata": {},
   "outputs": [],
   "source": [
    "big_list = [1, 2, 1, 2, 1]\n",
    "sub_list = [1, 2, 1]"
   ]
  },
  {
   "cell_type": "code",
   "execution_count": 29,
   "metadata": {},
   "outputs": [],
   "source": [
    "def remove_sublist(sublist, mainlist):\n",
    "\n",
    "    cursor = 0\n",
    "\n",
    "    for b in mainlist:\n",
    "        if cursor == len(sublist):\n",
    "            cursor = 0\n",
    "        if b == sublist[cursor]:\n",
    "            cursor += 1\n",
    "        else:\n",
    "            cursor = 0\n",
    "            yield b\n",
    "    \n",
    "    for i in range(0, cursor):\n",
    "        yield sublist[i]"
   ]
  },
  {
   "cell_type": "code",
   "execution_count": 30,
   "metadata": {},
   "outputs": [
    {
     "data": {
      "text/plain": [
       "[2, 1]"
      ]
     },
     "execution_count": 30,
     "metadata": {},
     "output_type": "execute_result"
    }
   ],
   "source": [
    "[x for x in remove_sublist(sub_list, big_list)]"
   ]
  },
  {
   "cell_type": "code",
   "execution_count": null,
   "metadata": {},
   "outputs": [],
   "source": []
  }
 ],
 "metadata": {
  "kernelspec": {
   "display_name": "Python 2",
   "language": "python",
   "name": "python2"
  },
  "language_info": {
   "codemirror_mode": {
    "name": "ipython",
    "version": 2
   },
   "file_extension": ".py",
   "mimetype": "text/x-python",
   "name": "python",
   "nbconvert_exporter": "python",
   "pygments_lexer": "ipython2",
   "version": "2.7.14"
  }
 },
 "nbformat": 4,
 "nbformat_minor": 2
}
